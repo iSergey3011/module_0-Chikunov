{
 "cells": [
  {
   "cell_type": "code",
   "execution_count": null,
   "metadata": {},
   "outputs": [],
   "source": [
    "import numpy as np\n",
    "\n",
    "\n",
    "def game_core_bisect(number):\n",
    "    '''Используем метод бисекций - деление отрезка, на котором может находиться искомое число, пополам.\n",
    "       Функция принимает загаданное число и возвращает количество попыток угадывания.'''\n",
    "    count = 0 # Инициализация счётчика попыток угадывания.\n",
    "    maximum = 101 # Инициализируем границы исходного\n",
    "    minimum = 0   # отрезка.\n",
    "    while True:\n",
    "        count += 1\n",
    "        predict = (maximum + minimum) // 2 # Вычисляем новое число для угадывания на текущем отрезке.\n",
    "        if number == predict:\n",
    "            break  # Угадали, прерываем цикл.\n",
    "        elif number > predict:\n",
    "                minimum = predict\n",
    "        elif number < predict:\n",
    "                maximum = predict\n",
    "    return count # Выходим с информацией о количестве попыток угадывания.\n",
    "\n",
    "\n",
    "def score_game(game_core):\n",
    "    '''Запускаем игру 1000 раз, чтобы узнать, как быстро игра угадывает число.'''\n",
    "    count_ls = []\n",
    "    np.random.seed(1)  # Фиксируем RANDOM SEED, чтобы ваш эксперимент был воспроизводим!\n",
    "    random_array = np.random.randint(1,101, size=(1000))\n",
    "    for number in random_array:\n",
    "        count_ls.append(game_core(number))\n",
    "    score = int(np.mean(count_ls))\n",
    "    print(f\"Ваш алгоритм угадывает число в среднем за {score} попыток\")\n",
    "    return score\n",
    "\n",
    "\n",
    "# запускаем\n",
    "score_game(game_core_bisect) # Метод деления отрезка пополам."
   ]
  }
 ],
 "metadata": {
  "kernelspec": {
   "display_name": "Python 3",
   "language": "python",
   "name": "python3"
  },
  "language_info": {
   "codemirror_mode": {
    "name": "ipython",
    "version": 3
   },
   "file_extension": ".py",
   "mimetype": "text/x-python",
   "name": "python",
   "nbconvert_exporter": "python",
   "pygments_lexer": "ipython3",
   "version": "3.8.3"
  }
 },
 "nbformat": 4,
 "nbformat_minor": 4
}
